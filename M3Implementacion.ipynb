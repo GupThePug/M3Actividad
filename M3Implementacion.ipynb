{
  "nbformat": 4,
  "nbformat_minor": 0,
  "metadata": {
    "colab": {
      "name": "M3Implementacion.ipynb",
      "provenance": []
    },
    "kernelspec": {
      "name": "python3",
      "display_name": "Python 3"
    },
    "language_info": {
      "name": "python"
    }
  },
  "cells": [
    {
      "cell_type": "code",
      "metadata": {
        "colab": {
          "base_uri": "https://localhost:8080/"
        },
        "id": "jAwRB5_yI6TQ",
        "outputId": "f701c05d-f9df-412e-b757-ba21eb5302cc"
      },
      "source": [
        "!pip3 install mesa "
      ],
      "execution_count": 1,
      "outputs": [
        {
          "output_type": "stream",
          "name": "stdout",
          "text": [
            "Collecting mesa\n",
            "  Downloading Mesa-0.8.9-py3-none-any.whl (668 kB)\n",
            "\u001b[?25l\r\u001b[K     |▌                               | 10 kB 22.6 MB/s eta 0:00:01\r\u001b[K     |█                               | 20 kB 27.5 MB/s eta 0:00:01\r\u001b[K     |█▌                              | 30 kB 9.0 MB/s eta 0:00:01\r\u001b[K     |██                              | 40 kB 9.8 MB/s eta 0:00:01\r\u001b[K     |██▌                             | 51 kB 5.1 MB/s eta 0:00:01\r\u001b[K     |███                             | 61 kB 5.9 MB/s eta 0:00:01\r\u001b[K     |███▍                            | 71 kB 5.7 MB/s eta 0:00:01\r\u001b[K     |████                            | 81 kB 6.4 MB/s eta 0:00:01\r\u001b[K     |████▍                           | 92 kB 4.8 MB/s eta 0:00:01\r\u001b[K     |█████                           | 102 kB 5.2 MB/s eta 0:00:01\r\u001b[K     |█████▍                          | 112 kB 5.2 MB/s eta 0:00:01\r\u001b[K     |█████▉                          | 122 kB 5.2 MB/s eta 0:00:01\r\u001b[K     |██████▍                         | 133 kB 5.2 MB/s eta 0:00:01\r\u001b[K     |██████▉                         | 143 kB 5.2 MB/s eta 0:00:01\r\u001b[K     |███████▍                        | 153 kB 5.2 MB/s eta 0:00:01\r\u001b[K     |███████▉                        | 163 kB 5.2 MB/s eta 0:00:01\r\u001b[K     |████████▎                       | 174 kB 5.2 MB/s eta 0:00:01\r\u001b[K     |████████▉                       | 184 kB 5.2 MB/s eta 0:00:01\r\u001b[K     |█████████▎                      | 194 kB 5.2 MB/s eta 0:00:01\r\u001b[K     |█████████▉                      | 204 kB 5.2 MB/s eta 0:00:01\r\u001b[K     |██████████▎                     | 215 kB 5.2 MB/s eta 0:00:01\r\u001b[K     |██████████▊                     | 225 kB 5.2 MB/s eta 0:00:01\r\u001b[K     |███████████▎                    | 235 kB 5.2 MB/s eta 0:00:01\r\u001b[K     |███████████▊                    | 245 kB 5.2 MB/s eta 0:00:01\r\u001b[K     |████████████▎                   | 256 kB 5.2 MB/s eta 0:00:01\r\u001b[K     |████████████▊                   | 266 kB 5.2 MB/s eta 0:00:01\r\u001b[K     |█████████████▎                  | 276 kB 5.2 MB/s eta 0:00:01\r\u001b[K     |█████████████▊                  | 286 kB 5.2 MB/s eta 0:00:01\r\u001b[K     |██████████████▏                 | 296 kB 5.2 MB/s eta 0:00:01\r\u001b[K     |██████████████▊                 | 307 kB 5.2 MB/s eta 0:00:01\r\u001b[K     |███████████████▏                | 317 kB 5.2 MB/s eta 0:00:01\r\u001b[K     |███████████████▊                | 327 kB 5.2 MB/s eta 0:00:01\r\u001b[K     |████████████████▏               | 337 kB 5.2 MB/s eta 0:00:01\r\u001b[K     |████████████████▋               | 348 kB 5.2 MB/s eta 0:00:01\r\u001b[K     |█████████████████▏              | 358 kB 5.2 MB/s eta 0:00:01\r\u001b[K     |█████████████████▋              | 368 kB 5.2 MB/s eta 0:00:01\r\u001b[K     |██████████████████▏             | 378 kB 5.2 MB/s eta 0:00:01\r\u001b[K     |██████████████████▋             | 389 kB 5.2 MB/s eta 0:00:01\r\u001b[K     |███████████████████             | 399 kB 5.2 MB/s eta 0:00:01\r\u001b[K     |███████████████████▋            | 409 kB 5.2 MB/s eta 0:00:01\r\u001b[K     |████████████████████            | 419 kB 5.2 MB/s eta 0:00:01\r\u001b[K     |████████████████████▋           | 430 kB 5.2 MB/s eta 0:00:01\r\u001b[K     |█████████████████████           | 440 kB 5.2 MB/s eta 0:00:01\r\u001b[K     |█████████████████████▌          | 450 kB 5.2 MB/s eta 0:00:01\r\u001b[K     |██████████████████████          | 460 kB 5.2 MB/s eta 0:00:01\r\u001b[K     |██████████████████████▌         | 471 kB 5.2 MB/s eta 0:00:01\r\u001b[K     |███████████████████████         | 481 kB 5.2 MB/s eta 0:00:01\r\u001b[K     |███████████████████████▌        | 491 kB 5.2 MB/s eta 0:00:01\r\u001b[K     |████████████████████████        | 501 kB 5.2 MB/s eta 0:00:01\r\u001b[K     |████████████████████████▌       | 512 kB 5.2 MB/s eta 0:00:01\r\u001b[K     |█████████████████████████       | 522 kB 5.2 MB/s eta 0:00:01\r\u001b[K     |█████████████████████████▌      | 532 kB 5.2 MB/s eta 0:00:01\r\u001b[K     |██████████████████████████      | 542 kB 5.2 MB/s eta 0:00:01\r\u001b[K     |██████████████████████████▌     | 552 kB 5.2 MB/s eta 0:00:01\r\u001b[K     |███████████████████████████     | 563 kB 5.2 MB/s eta 0:00:01\r\u001b[K     |███████████████████████████▍    | 573 kB 5.2 MB/s eta 0:00:01\r\u001b[K     |████████████████████████████    | 583 kB 5.2 MB/s eta 0:00:01\r\u001b[K     |████████████████████████████▍   | 593 kB 5.2 MB/s eta 0:00:01\r\u001b[K     |█████████████████████████████   | 604 kB 5.2 MB/s eta 0:00:01\r\u001b[K     |█████████████████████████████▍  | 614 kB 5.2 MB/s eta 0:00:01\r\u001b[K     |█████████████████████████████▉  | 624 kB 5.2 MB/s eta 0:00:01\r\u001b[K     |██████████████████████████████▍ | 634 kB 5.2 MB/s eta 0:00:01\r\u001b[K     |██████████████████████████████▉ | 645 kB 5.2 MB/s eta 0:00:01\r\u001b[K     |███████████████████████████████▍| 655 kB 5.2 MB/s eta 0:00:01\r\u001b[K     |███████████████████████████████▉| 665 kB 5.2 MB/s eta 0:00:01\r\u001b[K     |████████████████████████████████| 668 kB 5.2 MB/s \n",
            "\u001b[?25hRequirement already satisfied: tornado in /usr/local/lib/python3.7/dist-packages (from mesa) (5.1.1)\n",
            "Requirement already satisfied: numpy in /usr/local/lib/python3.7/dist-packages (from mesa) (1.19.5)\n",
            "Requirement already satisfied: tqdm in /usr/local/lib/python3.7/dist-packages (from mesa) (4.62.0)\n",
            "Collecting cookiecutter\n",
            "  Downloading cookiecutter-1.7.3-py2.py3-none-any.whl (34 kB)\n",
            "Requirement already satisfied: click in /usr/local/lib/python3.7/dist-packages (from mesa) (7.1.2)\n",
            "Requirement already satisfied: networkx in /usr/local/lib/python3.7/dist-packages (from mesa) (2.6.2)\n",
            "Requirement already satisfied: pandas in /usr/local/lib/python3.7/dist-packages (from mesa) (1.1.5)\n",
            "Collecting jinja2-time>=0.2.0\n",
            "  Downloading jinja2_time-0.2.0-py2.py3-none-any.whl (6.4 kB)\n",
            "Requirement already satisfied: Jinja2<4.0.0,>=2.7 in /usr/local/lib/python3.7/dist-packages (from cookiecutter->mesa) (2.11.3)\n",
            "Collecting binaryornot>=0.4.4\n",
            "  Downloading binaryornot-0.4.4-py2.py3-none-any.whl (9.0 kB)\n",
            "Requirement already satisfied: python-slugify>=4.0.0 in /usr/local/lib/python3.7/dist-packages (from cookiecutter->mesa) (5.0.2)\n",
            "Requirement already satisfied: six>=1.10 in /usr/local/lib/python3.7/dist-packages (from cookiecutter->mesa) (1.15.0)\n",
            "Collecting poyo>=0.5.0\n",
            "  Downloading poyo-0.5.0-py2.py3-none-any.whl (10 kB)\n",
            "Requirement already satisfied: requests>=2.23.0 in /usr/local/lib/python3.7/dist-packages (from cookiecutter->mesa) (2.23.0)\n",
            "Requirement already satisfied: chardet>=3.0.2 in /usr/local/lib/python3.7/dist-packages (from binaryornot>=0.4.4->cookiecutter->mesa) (3.0.4)\n",
            "Requirement already satisfied: MarkupSafe>=0.23 in /usr/local/lib/python3.7/dist-packages (from Jinja2<4.0.0,>=2.7->cookiecutter->mesa) (2.0.1)\n",
            "Collecting arrow\n",
            "  Downloading arrow-1.1.1-py3-none-any.whl (60 kB)\n",
            "\u001b[K     |████████████████████████████████| 60 kB 3.1 MB/s \n",
            "\u001b[?25hRequirement already satisfied: text-unidecode>=1.3 in /usr/local/lib/python3.7/dist-packages (from python-slugify>=4.0.0->cookiecutter->mesa) (1.3)\n",
            "Requirement already satisfied: certifi>=2017.4.17 in /usr/local/lib/python3.7/dist-packages (from requests>=2.23.0->cookiecutter->mesa) (2021.5.30)\n",
            "Requirement already satisfied: idna<3,>=2.5 in /usr/local/lib/python3.7/dist-packages (from requests>=2.23.0->cookiecutter->mesa) (2.10)\n",
            "Requirement already satisfied: urllib3!=1.25.0,!=1.25.1,<1.26,>=1.21.1 in /usr/local/lib/python3.7/dist-packages (from requests>=2.23.0->cookiecutter->mesa) (1.24.3)\n",
            "Requirement already satisfied: python-dateutil>=2.7.0 in /usr/local/lib/python3.7/dist-packages (from arrow->jinja2-time>=0.2.0->cookiecutter->mesa) (2.8.2)\n",
            "Requirement already satisfied: typing-extensions in /usr/local/lib/python3.7/dist-packages (from arrow->jinja2-time>=0.2.0->cookiecutter->mesa) (3.7.4.3)\n",
            "Requirement already satisfied: pytz>=2017.2 in /usr/local/lib/python3.7/dist-packages (from pandas->mesa) (2018.9)\n",
            "Installing collected packages: arrow, poyo, jinja2-time, binaryornot, cookiecutter, mesa\n",
            "Successfully installed arrow-1.1.1 binaryornot-0.4.4 cookiecutter-1.7.3 jinja2-time-0.2.0 mesa-0.8.9 poyo-0.5.0\n"
          ]
        }
      ]
    },
    {
      "cell_type": "code",
      "metadata": {
        "id": "dox35FrVJEw8"
      },
      "source": [
        "from mesa import Agent, Model \n",
        "from mesa.space import MultiGrid\n",
        "from mesa.time import SimultaneousActivation\n",
        "from mesa.datacollection import DataCollector\n",
        "\n",
        "%matplotlib inline\n",
        "import matplotlib\n",
        "import matplotlib.pyplot as plt\n",
        "import matplotlib.animation as animation\n",
        "plt.rcParams[\"animation.html\"] = \"jshtml\"\n",
        "matplotlib.rcParams['animation.embed_limit'] = 2**128\n",
        "\n",
        "import numpy as np\n",
        "import pandas as pd\n",
        "import random\n",
        "\n",
        "import time\n",
        "import datetime"
      ],
      "execution_count": 2,
      "outputs": []
    },
    {
      "cell_type": "code",
      "metadata": {
        "id": "H_E4TOk2JK5V"
      },
      "source": [
        ""
      ],
      "execution_count": null,
      "outputs": []
    }
  ]
}